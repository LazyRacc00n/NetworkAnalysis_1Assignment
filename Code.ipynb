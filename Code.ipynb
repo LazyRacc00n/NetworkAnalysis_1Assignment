{
 "cells": [
  {
   "cell_type": "markdown",
   "metadata": {},
   "source": [
    "# First assignment: Compute different measures on a realistic graph"
   ]
  },
  {
   "cell_type": "code",
   "execution_count": 1,
   "metadata": {},
   "outputs": [],
   "source": [
    "import numpy as np\n",
    "import urllib.request as urllib\n",
    "import io\n",
    "import zipfile\n",
    "\n",
    "import networkx as nx\n",
    "import matplotlib.pyplot as plt\n",
    "import scipy\n",
    "import collections\n",
    "import random"
   ]
  },
  {
   "cell_type": "markdown",
   "metadata": {},
   "source": [
    "## Load dataset"
   ]
  },
  {
   "cell_type": "code",
   "execution_count": 2,
   "metadata": {},
   "outputs": [],
   "source": [
    "\n",
    "\n",
    "def load_dataset(undirected = True, sample = False, K = None):\n",
    "    \n",
    "    # if sample == True then only K randomly selected nodes are loaded\n",
    "    \n",
    "    # create graph\n",
    "    G = nx.Graph()\n",
    "    node_list = []\n",
    "    edge_list = {}\n",
    "\n",
    "    with open(\"dataset/facebook_combined.edges\") as edges:\n",
    "        \n",
    "        \n",
    "        for row in edges:\n",
    "            if len(row.split(\" \")) == 1:\n",
    "                continue\n",
    "        \n",
    "            source, target = row.split(\" \")[:2]\n",
    "            source = int(source)\n",
    "            target = int(target)\n",
    "            \n",
    "            # add all the nodes and the edges\n",
    "            if not sample:\n",
    "                # add nodes if not in yet\n",
    "                if source not in G:\n",
    "                    G.add_node(source)\n",
    "        \n",
    "                if target not in G:\n",
    "                    G.add_node(target)\n",
    "        \n",
    "                # add edge\n",
    "                G.add_edge(source, target)\n",
    "                \n",
    "            else:\n",
    "                # prepare the list to randomply sample\n",
    "                if source not in edge_list.keys():\n",
    "                    edge_list[source] = []\n",
    "                    \n",
    "                if target not in edge_list.keys():\n",
    "                    edge_list[target] = []\n",
    "                    \n",
    "                if target not in edge_list[source]:\n",
    "                    edge_list[source].append(target)\n",
    "        \n",
    "        if sample:\n",
    "            # choose first node\n",
    "            node = random.choice(list(edge_list.keys()))\n",
    "                    \n",
    "            # add the first selected node\n",
    "            G.add_node(node)\n",
    "                        \n",
    "            node_list = edge_list[node]\n",
    "            \n",
    "            for k in range(K-1):\n",
    "                # chose next node untill it's a new one\n",
    "                node = random.choice(node_list)\n",
    "                \n",
    "                while(node in G):\n",
    "                    node = random.choice(node_list) \n",
    "                \n",
    "                \n",
    "                G.add_node(node)\n",
    "                \n",
    "                # add all edges between the new node and the other previously added\n",
    "                for target in edge_list[node]:\n",
    "                    \n",
    "                    if target not in node_list:\n",
    "                        node_list.append(target)\n",
    "                    \n",
    "                    if target in G:\n",
    "                        G.add_edge(node, target)\n",
    "                        \n",
    "                        # if undirected add both edges\n",
    "                        if undirected:\n",
    "                            G.add_edge(target, node)\n",
    "                            \n",
    "                            \n",
    "                \n",
    "        return G\n",
    "\n"
   ]
  },
  {
   "cell_type": "markdown",
   "metadata": {},
   "source": [
    "### Compute metrics"
   ]
  },
  {
   "cell_type": "code",
   "execution_count": 4,
   "metadata": {},
   "outputs": [
    {
     "name": "stdout",
     "output_type": "stream",
     "text": [
      "Number of nodes:  4039\n",
      "Number of edges:  88234\n",
      "Average degree:  43.69101262688784\n",
      "Density:  0.010819963503439287\n",
      "Global clustering:  0.5191742775433075\n",
      "Average clustering:  0.6055467186200876\n"
     ]
    }
   ],
   "source": [
    "# load graph with all nodes\n",
    "G = load_dataset()\n",
    "\n",
    "# number of nodes\n",
    "N = nx.number_of_nodes(G)\n",
    "print(\"Number of nodes: \", N)\n",
    "\n",
    "# number of links\n",
    "print(\"Number of edges: \", nx.number_of_edges(G))\n",
    "\n",
    "# average degree\n",
    "print(\"Average degree: \", sum([d for n, d in G.degree()])/nx.number_of_nodes(G))\n",
    "\n",
    "# Density\n",
    "print(\"Density: \", nx.density(G))\n",
    "\n",
    "# Global clustering\n",
    "print(\"Global clustering: \", nx.transitivity(G))\n",
    "\n",
    "# Average clustering\n",
    "print(\"Average clustering: \", nx.average_clustering(G))\n"
   ]
  },
  {
   "cell_type": "markdown",
   "metadata": {},
   "source": [
    "#### Find the largest connected component if necessary"
   ]
  },
  {
   "cell_type": "code",
   "execution_count": 5,
   "metadata": {},
   "outputs": [
    {
     "name": "stdout",
     "output_type": "stream",
     "text": [
      "Number of nodes of the giant component:  4039\n"
     ]
    }
   ],
   "source": [
    "if not nx.is_connected(G):\n",
    "    print(\"graph not connected! From now on the largest component will be considered as the graph\")  \n",
    "    G =  G.subgraph(sorted(nx.connected_components(G), key=len, reverse=True)[0]).copy()\n",
    "    \n",
    "print(\"Number of nodes of the giant component: \", nx.number_of_nodes(G))\n"
   ]
  },
  {
   "cell_type": "markdown",
   "metadata": {},
   "source": [
    "#### 1.Does the graph have the same characteristics of a random or a power-law network?"
   ]
  },
  {
   "cell_type": "code",
   "execution_count": 7,
   "metadata": {},
   "outputs": [],
   "source": [
    "from scipy.optimize import curve_fit\n",
    "\n",
    "def func(k, c, gamma):\n",
    "    return c * k**(-gamma)\n",
    "\n",
    "def nth_moment(g,n):\n",
    "    s = 0\n",
    "    for node in g.nodes:\n",
    "        s += g.degree[node] ** n\n",
    "    return (s/len(g))\n",
    "\n",
    "def nth_moment_v2(g,n):\n",
    "    degree_np = np.array(list(dict(g.degree).values()))\n",
    "    return (sum(degree_np**n)/len(g))"
   ]
  },
  {
   "cell_type": "code",
   "execution_count": 8,
   "metadata": {},
   "outputs": [
    {
     "name": "stderr",
     "output_type": "stream",
     "text": [
      "<ipython-input-7-07db1f884528>:4: RuntimeWarning: overflow encountered in power\n",
      "  return c * k**(-gamma)\n"
     ]
    },
    {
     "name": "stdout",
     "output_type": "stream",
     "text": [
      "[169.68055872   0.50668279]\n"
     ]
    },
    {
     "data": {
      "image/png": "[encoded data removed]",
      "text/plain": [
       "<Figure size 720x576 with 1 Axes>"
      ]
     },
     "metadata": {
      "needs_background": "light"
     },
     "output_type": "display_data"
    }
   ],
   "source": [
    "plt.figure(figsize=(10, 8))\n",
    "\n",
    "degree_sequence = sorted([d for n, d in G.degree()])  # degree sequence\n",
    "degreeCount = collections.Counter(degree_sequence)\n",
    "deg, cnt = zip(*degreeCount.items())\n",
    "deg= np.array(deg)\n",
    "cnt = np.array(cnt)\n",
    "\n",
    "#fig, ax = plt.subplots()\n",
    "plt.scatter(deg, cnt,s=10, color=\"purple\")\n",
    "\n",
    "plt.title(\"Degree Histogram\")\n",
    "plt.ylabel(\"Count\")\n",
    "plt.xlabel(\"Degree\")\n",
    "# prep axes                                                                                                                                                                                                                                  \n",
    "                                                                                                            \n",
    "\n",
    "#ax.set_xticks([d for d in deg])\n",
    "#ax.set_xticklabels(deg)\n",
    "\n",
    "popt, pcov = curve_fit(func, deg, cnt )\n",
    "\n",
    "print(popt)\n",
    "\n",
    "plt.plot(deg, func(deg,*popt), color='lime')\n",
    "plt.savefig(\"images/degree_distribution.png\")\n",
    "#plt.xscale('log')\n",
    "#plt.yscale('log')\n",
    "plt.show()\n"
   ]
  },
  {
   "cell_type": "code",
   "execution_count": 36,
   "metadata": {
    "pycharm": {
     "name": "#%%\n"
    }
   },
   "outputs": [
    {
     "data": {
      "image/png": "[encoded data removed]",
      "text/plain": [
       "<Figure size 432x288 with 1 Axes>"
      ]
     },
     "metadata": {
      "needs_background": "light"
     },
     "output_type": "display_data"
    }
   ],
   "source": [
    "plt.plot(deg, func(np.array(deg), *popt), color='red')\n",
    "plt.yscale('log')\n",
    "plt.xscale('log')\n"
   ]
  },
  {
   "cell_type": "markdown",
   "metadata": {},
   "source": [
    "##### Provo http://networksciencebook.com/chapter/4#advanced-c\n"
   ]
  },
  {
   "cell_type": "code",
   "execution_count": 9,
   "metadata": {},
   "outputs": [],
   "source": [
    "from itertools import count, islice\n",
    "\n",
    "def binom(n, k):\n",
    "    v = 1\n",
    "    for i in range(k):\n",
    "        v *= (n - i) / (i + 1)\n",
    "    return v\n",
    "\n",
    "def zeta(s, t=100):\n",
    "    if s == 1: return complex(\"inf\")\n",
    "    term = (1 / 2 ** (n + 1) * sum((-1) ** k * binom(n, k) * (k + 1) ** -s \n",
    "                                   for k in range(n + 1)) for n in count(0))\n",
    "    return sum(islice(term, t)) / (1 - 2 ** (1 - s))\n",
    "\n",
    "def zeta2(s, t=10000):\n",
    "    if s == 1: return float(\"inf\")\n",
    "    #term = ((-1)**(n - 1) / (n ** s) for n in count(1))\n",
    "    #return sum(islice(term, t)) / (1 - 2**(1 - s))\n",
    "    term = ((-1) ** n * n ** -s for n in count(1))\n",
    "    return sum(islice(term, t)) / (2 ** (1 - s) -  1)\n",
    "\n",
    "def zeta3(s, t=100):\n",
    "    if s == 1: return float(\"inf\")\n",
    "    term = (1 / 2 ** (n + 1) * sum((-1) ** k * binom(n, k) * (k + 1) ** -s \n",
    "                                   for k in range(n + 1)) for n in count(0))\n",
    "    return sum(islice(term, t)) / (1 - 2 ** (1 - s))"
   ]
  },
  {
   "cell_type": "code",
   "execution_count": 10,
   "metadata": {},
   "outputs": [
    {
     "name": "stderr",
     "output_type": "stream",
     "text": [
      "<ipython-input-9-41770e82257e>:24: RuntimeWarning: invalid value encountered in double_scalars\n",
      "  term = (1 / 2 ** (n + 1) * sum((-1) ** k * binom(n, k) * (k + 1) ** -s\n",
      "<ipython-input-9-41770e82257e>:24: RuntimeWarning: overflow encountered in double_scalars\n",
      "  term = (1 / 2 ** (n + 1) * sum((-1) ** k * binom(n, k) * (k + 1) ** -s\n"
     ]
    },
    {
     "name": "stdout",
     "output_type": "stream",
     "text": [
      "((-35.455606382073455, 25), 4.1659904577180354e+32)\n"
     ]
    }
   ],
   "source": [
    "#from scipy.special import zeta\n",
    "\n",
    "\n",
    "gamma = 0 # γ\n",
    "N = nx.number_of_nodes(G)\n",
    "\n",
    "list_D = {}\n",
    "pk_list = []\n",
    "\n",
    "deg = np.array(deg)\n",
    "\n",
    "\n",
    "for Kmin in deg:\n",
    "    \n",
    "    gamma = np.array([np.log(ki/(Kmin-0.5)) for ki in dict(G.degree()).values()], dtype=np.float64()).sum()\n",
    "    \n",
    "    gamma = 1 + N / (gamma)\n",
    "    \n",
    "    \n",
    "    pk = lambda gamma, k: 1/(zeta(gamma, Kmin) * k**gamma)\n",
    "    CDF = lambda gamma, k: (1 - (zeta3(gamma, k))/zeta3(gamma, Kmin))    \n",
    "    \n",
    "    D = max([abs( (len(deg[deg <= Kmin])/len(deg)) - CDF(gamma, k)) for k in deg[deg >= Kmin]]) # empirical distribution function - model CDF\n",
    "    list_D[(gamma, Kmin)] = D\n",
    "\n",
    "# find Min\n",
    "best_D= sorted(list_D.items(), key=lambda item: item[1], reverse=True)[0]\n",
    "\n",
    "print(best_D)"
   ]
  },
  {
   "cell_type": "code",
   "execution_count": 11,
   "metadata": {},
   "outputs": [
    {
     "data": {
      "text/plain": [
       "Text(0, 0.5, 'D')"
      ]
     },
     "execution_count": 11,
     "metadata": {},
     "output_type": "execute_result"
    },
    {
     "data": {
      "image/png": "[encoded data removed]",
      "text/plain": [
       "<Figure size 432x288 with 1 Axes>"
      ]
     },
     "metadata": {
      "needs_background": "light"
     },
     "output_type": "display_data"
    }
   ],
   "source": [
    "\n",
    "plt.scatter([ k for g, k in list_D.keys()], list_D.values(), c='m')\n",
    "plt.xlabel(\"k\")\n",
    "plt.ylabel(\"D\")"
   ]
  },
  {
   "cell_type": "code",
   "execution_count": null,
   "metadata": {},
   "outputs": [],
   "source": [
    "\n",
    "step = 500\n",
    "\n",
    "d_list = []\n",
    "\n",
    "k_list = np.arange(1000, N, step)\n",
    "\n",
    "for K in k_list:\n",
    "\n",
    "    # load graph with K nodes\n",
    "    Gp = load_dataset(sample = True, K = K)\n",
    "    \n",
    "    if not nx.is_connected(Gp):\n",
    "        print(\"G\")\n",
    "        Gp =  Gp.subgraph(sorted(nx.connected_components(Gp), key=len, reverse=True)[0]).copy()\n",
    "    \n",
    "    d_list.append(nx.diameter(Gp))"
   ]
  },
  {
   "cell_type": "code",
   "execution_count": null,
   "metadata": {},
   "outputs": [],
   "source": [
    "# plot linecharts\n",
    "plt.figure(figsize=(10, 8))\n",
    "\n",
    "print(d_list)\n",
    "\n",
    "\n",
    "x_list = np.arange(100, N + step, step)\n",
    "\n",
    "plt.plot(x_list, [ np.log(x) for x in x_list ], \"k--\", label = \"Ln(N)\")\n",
    "plt.plot(x_list, [ np.log(np.log(x)) for x in x_list ], \"m--\", label = \"LnLn(N)\")\n",
    "plt.plot(x_list, [ np.log(x)/np.log(np.log(x)) for x in x_list ], \"r--\", label = \"Ln(N)/LnLn(N)\")\n",
    "plt.plot(k_list, d_list, label=\"<d>\")\n",
    "\n",
    "plt.legend()"
   ]
  },
  {
   "cell_type": "markdown",
   "metadata": {},
   "source": [
    "#### 2. Which are the most important nodes, with respect to a given centrality measure?"
   ]
  },
  {
   "cell_type": "code",
   "execution_count": null,
   "metadata": {},
   "outputs": [],
   "source": [
    "# da scegliere le misure\n",
    "\n",
    "k= 10 # top k node\n",
    "\n",
    "betwenness = nx.betweenness_centrality(G)\n",
    "\n",
    "# select first k\n",
    "betwenness = dict(sorted(betwenness.items(), key=lambda item: item[1], reverse=True)[:k])\n",
    "\n",
    "print(betwenness)\n",
    "\n",
    "closeness = nx.closeness_centrality(G)\n",
    "\n",
    "# select first k\n",
    "closeness = dict(sorted(closeness.items(), key=lambda item: item[1], reverse=True)[:k])\n",
    "\n",
    "print(closeness)\n"
   ]
  },
  {
   "cell_type": "markdown",
   "metadata": {},
   "source": [
    "#### 3. Are the paths short with respect to the size of the network?\n"
   ]
  },
  {
   "cell_type": "code",
   "execution_count": 10,
   "metadata": {},
   "outputs": [
    {
     "name": "stdout",
     "output_type": "stream",
     "text": [
      "Diameter:  8\n",
      "Average distance  3.6925068496963913\n"
     ]
    }
   ],
   "source": [
    "print(\"Diameter: \", nx.diameter(G))\n",
    "print(\"Average distance \", nx.average_shortest_path_length(G))\n"
   ]
  },
  {
   "cell_type": "markdown",
   "metadata": {},
   "source": [
    "#### 5. Is the network assortative?"
   ]
  },
  {
   "cell_type": "code",
   "execution_count": null,
   "metadata": {},
   "outputs": [],
   "source": [
    "# da fare più avanti nel corso"
   ]
  },
  {
   "cell_type": "code",
   "execution_count": null,
   "metadata": {
    "pycharm": {
     "name": "#%%\n"
    }
   },
   "outputs": [],
   "source": []
  },
  {
   "cell_type": "code",
   "execution_count": null,
   "metadata": {
    "pycharm": {
     "name": "#%%\n"
    }
   },
   "outputs": [],
   "source": []
  }
 ],
 "metadata": {
  "kernelspec": {
   "display_name": "Python 3",
   "language": "python",
   "name": "python3"
  },
  "language_info": {
   "codemirror_mode": {
    "name": "ipython",
    "version": 3
   },
   "file_extension": ".py",
   "mimetype": "text/x-python",
   "name": "python",
   "nbconvert_exporter": "python",
   "pygments_lexer": "ipython3",
   "version": "3.8.3"
  }
 },
 "nbformat": 4,
 "nbformat_minor": 4
}
