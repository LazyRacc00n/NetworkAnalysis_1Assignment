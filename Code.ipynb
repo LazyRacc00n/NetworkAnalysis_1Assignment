{
 "cells": [
  {
   "cell_type": "markdown",
   "metadata": {},
   "source": [
    "# First assignment: Compute different measures on a realistic graph"
   ]
  },
  {
   "cell_type": "code",
   "execution_count": 1,
   "metadata": {},
   "outputs": [],
   "source": [
    "import numpy as np\n",
    "import urllib.request as urllib\n",
    "import io\n",
    "import zipfile\n",
    "\n",
    "import networkx as nx\n",
    "import matplotlib.pyplot as plt\n",
    "import scipy\n",
    "import collections"
   ]
  },
  {
   "cell_type": "markdown",
   "metadata": {},
   "source": [
    "## Load dataset"
   ]
  },
  {
   "cell_type": "code",
   "execution_count": 2,
   "metadata": {},
   "outputs": [
    {
     "ename": "ValueError",
     "evalue": "too many values to unpack (expected 2)",
     "output_type": "error",
     "traceback": [
      "\u001b[1;31m---------------------------------------------------------------------------\u001b[0m",
      "\u001b[1;31mValueError\u001b[0m                                Traceback (most recent call last)",
      "\u001b[1;32m<ipython-input-2-796170d6d253>\u001b[0m in \u001b[0;36m<module>\u001b[1;34m\u001b[0m\n\u001b[0;32m     21\u001b[0m         \u001b[1;32mcontinue\u001b[0m\u001b[1;33m\u001b[0m\u001b[1;33m\u001b[0m\u001b[0m\n\u001b[0;32m     22\u001b[0m \u001b[1;33m\u001b[0m\u001b[0m\n\u001b[1;32m---> 23\u001b[1;33m     \u001b[0msource\u001b[0m\u001b[1;33m,\u001b[0m \u001b[0mtarget\u001b[0m \u001b[1;33m=\u001b[0m \u001b[0mrow\u001b[0m\u001b[1;33m.\u001b[0m\u001b[0msplit\u001b[0m\u001b[1;33m(\u001b[0m\u001b[1;34m\" \"\u001b[0m\u001b[1;33m)\u001b[0m\u001b[1;33m\u001b[0m\u001b[1;33m\u001b[0m\u001b[0m\n\u001b[0m\u001b[0;32m     24\u001b[0m     \u001b[0msource\u001b[0m \u001b[1;33m=\u001b[0m \u001b[0mint\u001b[0m\u001b[1;33m(\u001b[0m\u001b[0msource\u001b[0m\u001b[1;33m)\u001b[0m\u001b[1;33m\u001b[0m\u001b[1;33m\u001b[0m\u001b[0m\n\u001b[0;32m     25\u001b[0m     \u001b[0mtarget\u001b[0m \u001b[1;33m=\u001b[0m \u001b[0mint\u001b[0m\u001b[1;33m(\u001b[0m\u001b[0mtarget\u001b[0m\u001b[1;33m)\u001b[0m\u001b[1;33m\u001b[0m\u001b[1;33m\u001b[0m\u001b[0m\n",
      "\u001b[1;31mValueError\u001b[0m: too many values to unpack (expected 2)"
     ]
    }
   ],
   "source": [
    "url = \"http://nrvis.com/download/data/inf/inf-openflights.zip\"\n",
    "\n",
    "sock = urllib.urlopen(url)  # open URL\n",
    "s = io.BytesIO(sock.read())  # read into BytesIO \"file\"\n",
    "sock.close()\n",
    "\n",
    "zf = zipfile.ZipFile(s)  # zipfile object\n",
    "txt = zf.read(\"readme.html\").decode()  # read info file\n",
    "edges = zf.read(\"inf-openflights.edges\").decode()  # read edges data\n",
    "\n",
    "# split each row\n",
    "edges = edges.split(\"\\n\")\n",
    "\n",
    "\n",
    "# create graph\n",
    "G = nx.Graph()\n",
    "\n",
    "\n",
    "for row in edges:\n",
    "    if len(row.split(\" \")) == 1:\n",
    "        continue\n",
    "        \n",
    "    source, target = row.split(\" \")\n",
    "    source = int(source)\n",
    "    target = int(target)\n",
    "\n",
    "    # add nodes if not in yet\n",
    "    if source not in G:\n",
    "        G.add_node(source)\n",
    "        \n",
    "    if target not in G:\n",
    "        G.add_node(target)\n",
    "        \n",
    "    # add edge and weight\n",
    "    G.add_edge(source, target)\n",
    "        \n",
    "        "
   ]
  },
  {
   "cell_type": "code",
   "execution_count": 3,
   "metadata": {},
   "outputs": [],
   "source": [
    "# create graph\n",
    "G = nx.Graph()\n",
    "\n",
    "with open(\"dataset/inf-openflights.edges\") as edges:\n",
    "    for row in edges:\n",
    "        if len(row.split(\" \")) == 1:\n",
    "            continue\n",
    "        \n",
    "        source, target = row.split(\" \")[:2]\n",
    "        source = int(source)\n",
    "        target = int(target)\n",
    "\n",
    "        # add nodes if not in yet\n",
    "        if source not in G:\n",
    "            G.add_node(source)\n",
    "        \n",
    "        if target not in G:\n",
    "            G.add_node(target)\n",
    "        \n",
    "        # add edge and weight\n",
    "        G.add_edge(source, target)"
   ]
  },
  {
   "cell_type": "code",
   "execution_count": null,
   "metadata": {},
   "outputs": [],
   "source": [
    "\n",
    "\n",
    "# number of nodes\n",
    "print(\"Number of nodes: \", nx.number_of_nodes(G))\n",
    "\n",
    "# number of links\n",
    "print(\"Number of edges: \", nx.number_of_edges(G))\n"
   ]
  },
  {
   "cell_type": "code",
   "execution_count": null,
   "metadata": {},
   "outputs": [],
   "source": [
    "# draw\n",
    "plt.figure(figsize=(10, 8))\n",
    "nx.draw(G, with_labels=True)\n",
    "plt.show()\n",
    "\n",
    "# poi con quello reale bisogna usare Gephi"
   ]
  },
  {
   "cell_type": "markdown",
   "metadata": {},
   "source": [
    "### Compute metrics"
   ]
  },
  {
   "cell_type": "markdown",
   "metadata": {},
   "source": [
    "#### Find the largest connected component if necessary"
   ]
  },
  {
   "cell_type": "code",
   "execution_count": null,
   "metadata": {},
   "outputs": [],
   "source": [
    "if not nx.is_connected(G):\n",
    "    print(\"graph not connected! From now on the largest component will be considered as the graph\")  \n",
    "    #G =  G.subgraph(sorted(nx.connected_components(G), key=len, reverse=True)[0]).copy()\n",
    "    \n",
    "print(\"Number of nodes of the giant component: \", nx.number_of_nodes(G))\n",
    "\n",
    "\n",
    "# o bisogna considerare tutte le componenti in qualche modo? da chiedere"
   ]
  },
  {
   "cell_type": "markdown",
   "metadata": {},
   "source": [
    "#### 1.Does the graph have the same characteristics of a random or a power-law network?"
   ]
  },
  {
   "cell_type": "code",
   "execution_count": 4,
   "metadata": {},
   "outputs": [],
   "source": [
    "from scipy.optimize import curve_fit\n",
    "\n",
    "def func(x, a, b, c):\n",
    "    return a * np.exp(-b * x) + c\n",
    "\n",
    "def nth_moment(g,n):\n",
    "    s = 0\n",
    "    for node in g.nodes:\n",
    "        s += g.degree[node] ** n\n",
    "    return (s/len(g))\n",
    "\n",
    "def nth_moment_v2(g,n):\n",
    "    degree_np = np.array(list(dict(g.degree).values()))\n",
    "    return (sum(degree_np**n)/len(g))"
   ]
  },
  {
   "cell_type": "code",
   "execution_count": 6,
   "metadata": {},
   "outputs": [
    {
     "name": "stderr",
     "output_type": "stream",
     "text": [
      "<ipython-input-4-ffd89fa73f36>:4: RuntimeWarning: overflow encountered in exp\n",
      "  return a * np.exp(-b * x) + c\n"
     ]
    },
    {
     "data": {
      "image/png": "[encoded data removed]",
      "text/plain": [
       "<Figure size 720x576 with 1 Axes>"
      ]
     },
     "metadata": {
      "needs_background": "light"
     },
     "output_type": "display_data"
    }
   ],
   "source": [
    "plt.figure(figsize=(10, 8))\n",
    "\n",
    "degree_sequence = sorted([d for n, d in G.degree()], reverse=True)  # degree sequence\n",
    "degreeCount = collections.Counter(degree_sequence)\n",
    "deg, cnt = zip(*degreeCount.items())\n",
    "\n",
    "#fig, ax = plt.subplots()\n",
    "plt.bar(deg, cnt, width=0.80, color=\"b\")\n",
    "\n",
    "plt.title(\"Degree Histogram\")\n",
    "plt.ylabel(\"Count\")\n",
    "plt.xlabel(\"Degree\")\n",
    "#ax.set_xticks([d for d in deg])\n",
    "#ax.set_xticklabels(deg)\n",
    "\n",
    "popt, pcov = curve_fit(func, np.array(deg), np.array(cnt))\n",
    "\n",
    "plt.plot(deg, func(np.array(deg), *popt), color='orange')\n",
    "plt.show()\n",
    "\n",
    "# la distribuzione dovrebbe darci un'idea ma credo vadano pure usate le ultime formule che ha spiegato (quelle con gamma per intenderci) "
   ]
  },
  {
   "cell_type": "markdown",
   "metadata": {},
   "source": [
    "##### Provo http://networksciencebook.com/chapter/4#advanced-c\n"
   ]
  },
  {
   "cell_type": "code",
   "execution_count": 7,
   "metadata": {},
   "outputs": [],
   "source": [
    "from itertools import count, islice\n",
    "\n",
    "def binom(n, k):\n",
    "    v = 1\n",
    "    for i in range(k):\n",
    "        v *= (n - i) / (i + 1)\n",
    "    return v\n",
    "\n",
    "def zeta(s, t=100):\n",
    "    if s == 1: return complex(\"inf\")\n",
    "    term = (1 / 2 ** (n + 1) * sum((-1) ** k * binom(n, k) * (k + 1) ** -s \n",
    "                                   for k in range(n + 1)) for n in count(0))\n",
    "    return sum(islice(term, t)) / (1 - 2 ** (1 - s))\n",
    "\n",
    "def zeta2(s, t=10000):\n",
    "    if s == 1: return float(\"inf\")\n",
    "    #term = ((-1)**(n - 1) / (n ** s) for n in count(1))\n",
    "    #return sum(islice(term, t)) / (1 - 2**(1 - s))\n",
    "    term = ((-1) ** n * n ** -s for n in count(1))\n",
    "    return sum(islice(term, t)) / (2 ** (1 - s) -  1)\n",
    "\n",
    "def zeta3(s, t=100):\n",
    "    if s == 1: return float(\"inf\")\n",
    "    term = (1 / 2 ** (n + 1) * sum((-1) ** k * binom(n, k) * (k + 1) ** -s \n",
    "                                   for k in range(n + 1)) for n in count(0))\n",
    "    return sum(islice(term, t)) / (1 - 2 ** (1 - s))"
   ]
  },
  {
   "cell_type": "code",
   "execution_count": 8,
   "metadata": {},
   "outputs": [
    {
     "name": "stdout",
     "output_type": "stream",
     "text": [
      "((-7.308551769167551, 5), 1.4221046699353674)\n"
     ]
    }
   ],
   "source": [
    "#from scipy.special import zeta\n",
    "\n",
    "\n",
    "gamma = 0 # γ\n",
    "N = nx.number_of_nodes(G)\n",
    "\n",
    "list_D = {}\n",
    "pk_list = []\n",
    "\n",
    "deg = np.array(deg)\n",
    "\n",
    "\n",
    "for Kmin in deg:\n",
    "    \n",
    "    gamma = np.array([np.log(ki/(Kmin-0.5)) for ki in dict(G.degree()).values()], dtype=np.float64()).sum()\n",
    "    \n",
    "    gamma = 1 + N / (gamma)\n",
    "    \n",
    "    \n",
    "    pk = lambda gamma, k: 1/(zeta(gamma, Kmin) * k**gamma)\n",
    "    CDF = lambda gamma, k: (1 - (zeta3(gamma, k))/zeta3(gamma, Kmin))    \n",
    "    \n",
    "    D = max([abs( (len(deg[deg <= Kmin])/len(deg)) - CDF(gamma, k)) for k in deg[deg >= Kmin]]) # empirical distribution function - model CDF\n",
    "    list_D[(gamma, Kmin)] = D\n",
    "\n",
    "# find Min\n",
    "best_D= sorted(list_D.items(), key=lambda item: item[1], reverse=True)[0]\n",
    "\n",
    "print(best_D)"
   ]
  },
  {
   "cell_type": "code",
   "execution_count": 9,
   "metadata": {},
   "outputs": [
    {
     "data": {
      "text/plain": [
       "Text(0, 0.5, 'D')"
      ]
     },
     "execution_count": 9,
     "metadata": {},
     "output_type": "execute_result"
    },
    {
     "data": {
      "image/png": "[encoded data removed]",
      "text/plain": [
       "<Figure size 432x288 with 1 Axes>"
      ]
     },
     "metadata": {
      "needs_background": "light"
     },
     "output_type": "display_data"
    }
   ],
   "source": [
    "\n",
    "plt.scatter([ k for g, k in list_D.keys()], list_D.values(), c='m')\n",
    "plt.xlabel(\"k\")\n",
    "plt.ylabel(\"D\")"
   ]
  },
  {
   "cell_type": "markdown",
   "metadata": {},
   "source": [
    "#### 2. Which are the most important nodes, with respect to a given centrality measure?"
   ]
  },
  {
   "cell_type": "code",
   "execution_count": null,
   "metadata": {},
   "outputs": [],
   "source": [
    "# da scegliere le misure\n",
    "\n",
    "k= 10 # top k node\n",
    "\n",
    "betwenness = nx.betweenness_centrality(G)\n",
    "\n",
    "# select first k\n",
    "betwenness = dict(sorted(betwenness.items(), key=lambda item: item[1], reverse=True)[:k])\n",
    "\n",
    "print(betwenness)\n",
    "\n",
    "closeness = nx.closeness_centrality(G)\n",
    "\n",
    "# select first k\n",
    "closeness = dict(sorted(closeness.items(), key=lambda item: item[1], reverse=True)[:k])\n",
    "\n",
    "print(closeness)\n",
    "\n",
    "print(\"Average clustering: \", nx.average_clustering(G))\n",
    "\n"
   ]
  },
  {
   "cell_type": "markdown",
   "metadata": {},
   "source": [
    "#### 3. Are the paths short with respect to the size of the network?\n"
   ]
  },
  {
   "cell_type": "code",
   "execution_count": null,
   "metadata": {},
   "outputs": [],
   "source": [
    "print(\"Diameter: \", nx.diameter(G))\n",
    "print(\"Average distance \", nx.average_shortest_path_length(G))\n"
   ]
  },
  {
   "cell_type": "markdown",
   "metadata": {},
   "source": [
    "#### 4. Is the network dense?\n"
   ]
  },
  {
   "cell_type": "code",
   "execution_count": null,
   "metadata": {},
   "outputs": [],
   "source": [
    "# da fare più avanti nel corso"
   ]
  },
  {
   "cell_type": "markdown",
   "metadata": {},
   "source": [
    "#### 5. Is the network assortative?"
   ]
  },
  {
   "cell_type": "code",
   "execution_count": null,
   "metadata": {},
   "outputs": [],
   "source": [
    "# da fare più avanti nel corso"
   ]
  }
 ],
 "metadata": {
  "kernelspec": {
   "display_name": "Python 3",
   "language": "python",
   "name": "python3"
  },
  "language_info": {
   "codemirror_mode": {
    "name": "ipython",
    "version": 3
   },
   "file_extension": ".py",
   "mimetype": "text/x-python",
   "name": "python",
   "nbconvert_exporter": "python",
   "pygments_lexer": "ipython3",
   "version": "3.8.3"
  }
 },
 "nbformat": 4,
 "nbformat_minor": 4
}
