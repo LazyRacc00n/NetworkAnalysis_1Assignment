{
 "cells": [
  {
   "cell_type": "markdown",
   "metadata": {},
   "source": [
    "# First assignment: Compute different measures on a realistic graph"
   ]
  },
  {
   "cell_type": "code",
   "execution_count": 4,
   "metadata": {},
   "outputs": [],
   "source": [
    "import numpy as np\n",
    "import urllib.request as urllib\n",
    "import io\n",
    "import zipfile\n",
    "\n",
    "import networkx as nx\n",
    "import matplotlib.pyplot as plt\n",
    "import scipy\n",
    "import collections\n",
    "import random"
   ]
  },
  {
   "cell_type": "markdown",
   "metadata": {},
   "source": [
    "## Load dataset"
   ]
  },
  {
   "cell_type": "code",
   "execution_count": 5,
   "metadata": {},
   "outputs": [],
   "source": [
    "\n",
    "\n",
    "def load_dataset():\n",
    "    \n",
    "    \n",
    "    \n",
    "    # create graph\n",
    "    G = nx.Graph()\n",
    "    node_list = []\n",
    "    edge_list = {}\n",
    "    N = 0\n",
    "\n",
    "    with open(\"dataset/facebook_combined.edges\") as edges:\n",
    "        \n",
    "        \n",
    "        for row in edges:\n",
    "            if len(row.split(\" \")) == 1:\n",
    "                continue\n",
    "        \n",
    "            source, target = row.split(\" \")[:2]\n",
    "            source = int(source)\n",
    "            target = int(target)\n",
    "                        \n",
    "            # add nodes if not in yet\n",
    "            if source not in G:\n",
    "                G.add_node(source)\n",
    "        \n",
    "            if target not in G:\n",
    "                G.add_node(target)\n",
    "        \n",
    "            # add edge\n",
    "            G.add_edge(source, target)\n",
    "            \n",
    "        # total number of nodes\n",
    "        N = nx.number_of_nodes(G)\n",
    "\n",
    "            G = G_c\n",
    "                \n",
    "        return G\n",
    "    \n",
    "    return None\n"
   ]
  },
  {
   "cell_type": "markdown",
   "metadata": {},
   "source": [
    "### Compute metrics"
   ]
  },
  {
   "cell_type": "code",
   "execution_count": 6,
   "metadata": {},
   "outputs": [
    {
     "name": "stdout",
     "output_type": "stream",
     "text": [
      "Number of nodes:  4039\n",
      "Number of edges:  88234\n",
      "Average degree:  43.69101262688784\n",
      "Density:  0.010819963503439287\n",
      "Global clustering:  0.5191742775433075\n",
      "Average clustering:  0.6055467186200876\n"
     ]
    }
   ],
   "source": [
    "# load graph with all nodes\n",
    "G = load_dataset()\n",
    "\n",
    "# number of nodes\n",
    "N = nx.number_of_nodes(G)\n",
    "print(\"Number of nodes: \", N)\n",
    "\n",
    "# number of links\n",
    "print(\"Number of edges: \", nx.number_of_edges(G))\n",
    "\n",
    "# average degree\n",
    "print(\"Average degree: \", sum([d for n, d in G.degree()])/nx.number_of_nodes(G))\n",
    "\n",
    "# Density\n",
    "print(\"Density: \", nx.density(G))\n",
    "\n",
    "# Global clustering\n",
    "print(\"Global clustering: \", nx.transitivity(G))\n",
    "\n",
    "# Average clustering\n",
    "print(\"Average clustering: \", nx.average_clustering(G))\n"
   ]
  },
  {
   "cell_type": "markdown",
   "metadata": {},
   "source": [
    "#### Find the largest connected component if necessary"
   ]
  },
  {
   "cell_type": "code",
   "execution_count": 5,
   "metadata": {},
   "outputs": [
    {
     "name": "stdout",
     "output_type": "stream",
     "text": [
      "Number of nodes of the giant component:  4039\n"
     ]
    }
   ],
   "source": [
    "if not nx.is_connected(G):\n",
    "    print(\"graph not connected! From now on the largest component will be considered as the graph\")  \n",
    "    G =  G.subgraph(sorted(nx.connected_components(G), key=len, reverse=True)[0]).copy()\n",
    "    \n",
    "print(\"Number of nodes of the giant component: \", nx.number_of_nodes(G))\n"
   ]
  },
  {
   "cell_type": "code",
   "execution_count": 14,
   "metadata": {},
   "outputs": [
    {
     "name": "stdout",
     "output_type": "stream",
     "text": [
      "Diameter:  8\n",
      "Average distance  3.6925068496963913\n",
      "Assortativity coeff.  0.06357722918564919\n"
     ]
    }
   ],
   "source": [
    "print(\"Diameter: \", nx.diameter(G))\n",
    "\n",
    "print(\"Average distance \", nx.average_shortest_path_length(G))\n",
    "\n",
    "print(\"Assortativity coeff. \", nx.degree_pearson_correlation_coefficient(G))"
   ]
  },
  {
   "cell_type": "markdown",
   "metadata": {},
   "source": [
    "#### Does the graph have the same characteristics of a random or a power-law network?"
   ]
  },
  {
   "cell_type": "code",
   "execution_count": 7,
   "metadata": {},
   "outputs": [],
   "source": [
    "from scipy.optimize import curve_fit\n",
    "from scipy.special import zetac\n",
    "\n",
    "# curve to fit\n",
    "def func(k, c, gamma):\n",
    "    return  k**(-gamma) * c\n"
   ]
  },
  {
   "cell_type": "markdown",
   "metadata": {},
   "source": [
    "#### Plot degree distribution and fitted curve"
   ]
  },
  {
   "cell_type": "code",
   "execution_count": 8,
   "metadata": {},
   "outputs": [
    {
     "name": "stderr",
     "output_type": "stream",
     "text": [
      "<ipython-input-7-8f7a10451bd9>:5: RuntimeWarning: overflow encountered in power\n",
      "  return  k**(-gamma) * c\n"
     ]
    },
    {
     "name": "stdout",
     "output_type": "stream",
     "text": [
      "[169.68055872   0.50668279]\n"
     ]
    },
    {
     "data": {
      "image/png": "[encoded data removed]",
      "text/plain": [
       "<Figure size 720x576 with 1 Axes>"
      ]
     },
     "metadata": {
      "needs_background": "light"
     },
     "output_type": "display_data"
    }
   ],
   "source": [
    "plt.figure(figsize=(10, 8))\n",
    "\n",
    "degree_sequence = sorted([d for n, d in G.degree()])  # degree sequence\n",
    "degreeCount = collections.Counter(degree_sequence)\n",
    "deg, cnt = zip(*degreeCount.items())\n",
    "deg= np.array(deg)\n",
    "cnt = np.array(cnt)\n",
    "\n",
    "#fig, ax = plt.subplots()\n",
    "plt.scatter(deg, cnt,s=10, color=\"purple\")\n",
    "\n",
    "plt.title(\"Degree Histogram\")\n",
    "plt.ylabel(\"Count\")\n",
    "plt.xlabel(\"Degree\")\n",
    "# prep axes                                                                                                                                                                                                                                  \n",
    "                                                                                                            \n",
    "\n",
    "#ax.set_xticks([d for d in deg])\n",
    "#ax.set_xticklabels(deg)\n",
    "\n",
    "popt, pcov = curve_fit(func, deg, cnt )\n",
    "\n",
    "print(\"c, gamma: \", popt)\n",
    "\n",
    "plt.plot(deg, func(deg,*popt), color='lime')\n",
    "plt.savefig(\"images/degree_distribution.png\")\n",
    "plt.show()\n"
   ]
  },
  {
   "cell_type": "markdown",
   "metadata": {},
   "source": [
    "#### Plot in logarithmic scale"
   ]
  },
  {
   "cell_type": "code",
   "execution_count": 13,
   "metadata": {},
   "outputs": [
    {
     "data": {
      "image/png": "[encoded data removed]",
      "text/plain": [
       "<Figure size 720x576 with 1 Axes>"
      ]
     },
     "metadata": {
      "needs_background": "light"
     },
     "output_type": "display_data"
    }
   ],
   "source": [
    "plt.figure(figsize=(10, 8))\n",
    "\n",
    "plt.scatter(deg, cnt,s=10, color=\"purple\")\n",
    "plt.plot(deg, func(deg,*popt), color='lime')\n",
    "plt.title(\"Degree Histogram\")\n",
    "plt.ylabel(\"Count\")\n",
    "plt.xlabel(\"Degree\")\n",
    "plt.xscale('log')\n",
    "plt.yscale('log')\n",
    "\n",
    "plt.savefig(\"images/fitted_curve_degree_distribution.png\")\n",
    "plt.show()\n",
    "\n"
   ]
  },
  {
   "cell_type": "markdown",
   "metadata": {},
   "source": [
    "#### Compute behaviour of the distance as the network grows "
   ]
  },
  {
   "cell_type": "code",
   "execution_count": 38,
   "metadata": {},
   "outputs": [
    {
     "name": "stdout",
     "output_type": "stream",
     "text": [
      "1000\n",
      "1100\n",
      "1200\n",
      "1300\n",
      "1400\n",
      "1500\n",
      "1600\n",
      "1700\n",
      "1800\n",
      "1900\n",
      "2000\n",
      "2100\n",
      "2200\n",
      "2300\n",
      "2400\n",
      "2500\n",
      "2600\n",
      "2700\n",
      "2800\n",
      "2900\n",
      "3000\n",
      "3100\n",
      "3200\n",
      "3300\n",
      "3400\n",
      "3500\n",
      "3600\n",
      "3700\n",
      "3800\n",
      "3900\n",
      "4000\n"
     ]
    }
   ],
   "source": [
    "\n",
    "node_set= set() # list of possible nodes that can be selected\n",
    "\n",
    "# take a small set of nodes\n",
    "init_node = random.sample([node for node ,degree in G.degree()], 100)\n",
    "\n",
    "# add neighbors of the current nodes\n",
    "for node in init_node:\n",
    "    node_set.update(G.neighbors(node))\n",
    "    \n",
    "# add further nodes and edges starting from those already selected\n",
    "further_nodes = random.sample(node_set, 900)\n",
    "init_node = init_node + further_nodes\n",
    "\n",
    "# remove nodes have been selected\n",
    "node_set.difference_update(further_nodes)\n",
    "\n",
    "for node in further_nodes:\n",
    "    node_set.update(G.neighbors(node))\n",
    "    \n",
    "\n",
    "# first graph is a subgraph of 1000 nodes \n",
    "Gp = G.subgraph(init_node)\n",
    "\n",
    "step = 100 # step of nodes\n",
    "d_list = [] # list of distances\n",
    "\n",
    "k_list = np.arange(1000, N, step)\n",
    "\n",
    "\n",
    "for K in k_list:\n",
    "    \n",
    "    print(K)\n",
    "    \n",
    "    # add further nodes and edges starting from those already selected\n",
    "    further_nodes = random.sample(node_set, step)\n",
    "    init_node = init_node + further_nodes\n",
    "    \n",
    "    # remove nodes have been selected\n",
    "    node_set.difference_update(further_nodes)\n",
    "\n",
    "    for node in further_nodes:\n",
    "        node_set.update(G.neighbors(node))\n",
    "    \n",
    "    Gp = G.subgraph(init_node)\n",
    "\n",
    "    # if it is not connected select only the \n",
    "    if not nx.is_connected(Gp):\n",
    "        Gp = Gp.subgraph(max(nx.connected_components(Gp), key=len)).copy()\n",
    "    \n",
    "    d_list.append(nx.average_shortest_path_length(Gp))\n",
    "    "
   ]
  },
  {
   "cell_type": "code",
   "execution_count": 37,
   "metadata": {},
   "outputs": [
    {
     "data": {
      "image/png": "[encoded data removed]",
      "text/plain": [
       "<Figure size 720x576 with 1 Axes>"
      ]
     },
     "metadata": {
      "needs_background": "light"
     },
     "output_type": "display_data"
    }
   ],
   "source": [
    "# plot linecharts\n",
    "plt.figure(figsize=(10, 8))\n",
    "\n",
    "\n",
    "x_list = np.arange(100, N + step, step)\n",
    "\n",
    "plt.plot(x_list, [ np.log(x) for x in x_list ], \"k--\", label = \"Ln(N)\")\n",
    "plt.plot(x_list, [ np.log(np.log(x)) for x in x_list ], \"m--\", label = \"LnLn(N)\")\n",
    "plt.plot(x_list, [ np.log(x)/np.log(np.log(x)) for x in x_list ], \"r--\", label = \"Ln(N)/LnLn(N)\")\n",
    "plt.plot(k_list, d_list, label=\"<d>\")\n",
    "\n",
    "plt.title(\"AVG shortest path as network grows\")\n",
    "plt.ylabel(\"d\")\n",
    "plt.xlabel(\"number of nodes\")\n",
    "plt.legend()\n",
    "\n",
    "plt.savefig(\"images/grow_network.png\")\n",
    "\n",
    "plt.show()"
   ]
  },
  {
   "cell_type": "markdown",
   "metadata": {},
   "source": [
    "#### Which are the most important nodes, with respect to a given centrality measure?"
   ]
  },
  {
   "cell_type": "code",
   "execution_count": 34,
   "metadata": {},
   "outputs": [
    {
     "name": "stdout",
     "output_type": "stream",
     "text": [
      "Betwenness:  {107: 0.4805180785560152, 1684: 0.3377974497301992, 3437: 0.23611535735892905, 1912: 0.2292953395868782, 1085: 0.14901509211665306, 0: 0.14630592147442917, 698: 0.11533045020560802, 567: 0.09631033121856215, 58: 0.08436020590796486, 428: 0.06430906239323866}\n",
      "Closeness:  {107: 0.45969945355191255, 58: 0.3974018305284913, 428: 0.3948371956585509, 563: 0.3939127889961955, 1684: 0.39360561458231796, 171: 0.37049270575282134, 348: 0.36991572004397216, 483: 0.3698479575013739, 414: 0.3695433330282786, 376: 0.36655773420479304}\n",
      "Degree:  {107: 1045, 1684: 792, 1912: 755, 3437: 547, 0: 347, 2543: 294, 2347: 291, 1888: 254, 1800: 245, 1663: 235}\n"
     ]
    }
   ],
   "source": [
    "\n",
    "k= 10 # top k node\n",
    "\n",
    "betwenness = nx.betweenness_centrality(G)\n",
    "\n",
    "# select first k\n",
    "betwenness = dict(sorted(betwenness.items(), key=lambda item: item[1], reverse=True)[:k])\n",
    "\n",
    "print(\"Betwenness: \", betwenness)\n",
    "\n",
    "closeness = nx.closeness_centrality(G)\n",
    "\n",
    "# select first k\n",
    "closeness = dict(sorted(closeness.items(), key=lambda item: item[1], reverse=True)[:k])\n",
    "\n",
    "print(\"Closeness: \", closeness)\n",
    "\n",
    "\n",
    "# select first k\n",
    "\n",
    "degree = G.degree()\n",
    "degree = dict(sorted(degree, key=lambda item: item[1], reverse=True)[:k])\n",
    "\n",
    "print(\"Degree: \",degree)"
   ]
  },
  {
   "cell_type": "code",
   "execution_count": null,
   "metadata": {},
   "outputs": [],
   "source": []
  }
 ],
 "metadata": {
  "kernelspec": {
   "display_name": "Python 3",
   "language": "python",
   "name": "python3"
  },
  "language_info": {
   "codemirror_mode": {
    "name": "ipython",
    "version": 3
   },
   "file_extension": ".py",
   "mimetype": "text/x-python",
   "name": "python",
   "nbconvert_exporter": "python",
   "pygments_lexer": "ipython3",
   "version": "3.8.3"
  }
 },
 "nbformat": 4,
 "nbformat_minor": 4
}
