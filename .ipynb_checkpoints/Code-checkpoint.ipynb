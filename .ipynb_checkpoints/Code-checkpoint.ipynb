{
 "cells": [
  {
   "cell_type": "markdown",
   "metadata": {},
   "source": [
    "# First assignment: Compute different measures on a realistic graph"
   ]
  },
  {
   "cell_type": "code",
   "execution_count": 1,
   "metadata": {},
   "outputs": [],
   "source": [
    "import numpy as np\n",
    "import urllib.request as urllib\n",
    "import io\n",
    "import zipfile\n",
    "\n",
    "import networkx as nx\n",
    "import matplotlib.pyplot as plt\n",
    "import scipy\n",
    "import collections\n",
    "import random"
   ]
  },
  {
   "cell_type": "markdown",
   "metadata": {},
   "source": [
    "## Load dataset"
   ]
  },
  {
   "cell_type": "code",
   "execution_count": 9,
   "metadata": {},
   "outputs": [],
   "source": [
    "\n",
    "\n",
    "def load_dataset(sample = False, K = None):\n",
    "    \n",
    "    # if sample == True then only K randomly selected nodes are loaded\n",
    "    \n",
    "    # create graph\n",
    "    G = nx.Graph()\n",
    "    node_list = []\n",
    "    edge_list = {}\n",
    "    N = 0\n",
    "\n",
    "    with open(\"dataset/facebook_combined.edges\") as edges:\n",
    "        \n",
    "        \n",
    "        for row in edges:\n",
    "            if len(row.split(\" \")) == 1:\n",
    "                continue\n",
    "        \n",
    "            source, target = row.split(\" \")[:2]\n",
    "            source = int(source)\n",
    "            target = int(target)\n",
    "                        \n",
    "            # add nodes if not in yet\n",
    "            if source not in G:\n",
    "                G.add_node(source)\n",
    "        \n",
    "            if target not in G:\n",
    "                G.add_node(target)\n",
    "        \n",
    "            # add edge\n",
    "            G.add_edge(source, target)\n",
    "            \n",
    "        # total number of nodes\n",
    "        N = nx.number_of_nodes(G)\n",
    "\n",
    "        # remove nodes so that to mantain the graph connected (N - K nodes to remove)\n",
    "        if sample:\n",
    "            \n",
    "            # deepcopy\n",
    "            G_c = G.copy()\n",
    "            \n",
    "            # choose randomly node\n",
    "            remove = random.sample([node for node ,degree in G.degree()], N-K)\n",
    "            G_c.remove_nodes_from(remove)\n",
    "            \n",
    "            # repeat until the graph is not connected\n",
    "            while not nx.is_connected(G_c):\n",
    "                \n",
    "                # restore \n",
    "                G_c = G.copy()\n",
    "                \n",
    "                # choose randomly node\n",
    "                remove = random.sample([node for node ,degree in G.degree()], N-K)\n",
    "                G_c.remove_nodes_from(remove)\n",
    "            \n",
    "            G = G_c\n",
    "                \n",
    "        return G\n",
    "\n"
   ]
  },
  {
   "cell_type": "markdown",
   "metadata": {},
   "source": [
    "### Compute metrics"
   ]
  },
  {
   "cell_type": "code",
   "execution_count": 3,
   "metadata": {},
   "outputs": [
    {
     "name": "stdout",
     "output_type": "stream",
     "text": [
      "Number of nodes:  4039\n",
      "Number of edges:  88234\n",
      "Average degree:  43.69101262688784\n",
      "Density:  0.010819963503439287\n",
      "Global clustering:  0.5191742775433075\n",
      "Average clustering:  0.6055467186200876\n"
     ]
    }
   ],
   "source": [
    "# load graph with all nodes\n",
    "G = load_dataset()\n",
    "\n",
    "# number of nodes\n",
    "N = nx.number_of_nodes(G)\n",
    "print(\"Number of nodes: \", N)\n",
    "\n",
    "# number of links\n",
    "print(\"Number of edges: \", nx.number_of_edges(G))\n",
    "\n",
    "# average degree\n",
    "print(\"Average degree: \", sum([d for n, d in G.degree()])/nx.number_of_nodes(G))\n",
    "\n",
    "# Density\n",
    "print(\"Density: \", nx.density(G))\n",
    "\n",
    "# Global clustering\n",
    "print(\"Global clustering: \", nx.transitivity(G))\n",
    "\n",
    "# Average clustering\n",
    "print(\"Average clustering: \", nx.average_clustering(G))\n"
   ]
  },
  {
   "cell_type": "markdown",
   "metadata": {},
   "source": [
    "#### Find the largest connected component if necessary"
   ]
  },
  {
   "cell_type": "code",
   "execution_count": 4,
   "metadata": {},
   "outputs": [
    {
     "name": "stdout",
     "output_type": "stream",
     "text": [
      "Number of nodes of the giant component:  4039\n"
     ]
    }
   ],
   "source": [
    "if not nx.is_connected(G):\n",
    "    print(\"graph not connected! From now on the largest component will be considered as the graph\")  \n",
    "    G =  G.subgraph(sorted(nx.connected_components(G), key=len, reverse=True)[0]).copy()\n",
    "    \n",
    "print(\"Number of nodes of the giant component: \", nx.number_of_nodes(G))\n"
   ]
  },
  {
   "cell_type": "code",
   "execution_count": 5,
   "metadata": {},
   "outputs": [
    {
     "name": "stdout",
     "output_type": "stream",
     "text": [
      "Diameter:  8\n",
      "Average distance  3.6925068496963913\n",
      "Assortativity coeff.  0.0635772291856496\n"
     ]
    }
   ],
   "source": [
    "print(\"Diameter: \", nx.diameter(G))\n",
    "\n",
    "print(\"Average distance \", nx.average_shortest_path_length(G))\n",
    "\n",
    "print(\"Assortativity coeff. \", nx.degree_assortativity_coefficient(G))"
   ]
  },
  {
   "cell_type": "markdown",
   "metadata": {},
   "source": [
    "#### Does the graph have the same characteristics of a random or a power-law network?"
   ]
  },
  {
   "cell_type": "code",
   "execution_count": 13,
   "metadata": {},
   "outputs": [],
   "source": [
    "from scipy.optimize import curve_fit\n",
    "from scipy.special import zetac\n",
    "\n",
    "def func(k, c, gamma):\n",
    "    return  k**(-gamma) * c\n"
   ]
  },
  {
   "cell_type": "code",
   "execution_count": 14,
   "metadata": {},
   "outputs": [
    {
     "name": "stderr",
     "output_type": "stream",
     "text": [
      "<ipython-input-13-8f7a10451bd9>:5: RuntimeWarning: overflow encountered in power\n",
      "  return  k**(-gamma) * c\n"
     ]
    },
    {
     "name": "stdout",
     "output_type": "stream",
     "text": [
      "[169.68055872   0.50668279]\n"
     ]
    },
    {
     "data": {
      "image/png": "[encoded data removed]",
      "text/plain": [
       "<Figure size 720x576 with 1 Axes>"
      ]
     },
     "metadata": {
      "needs_background": "light"
     },
     "output_type": "display_data"
    }
   ],
   "source": [
    "plt.figure(figsize=(10, 8))\n",
    "\n",
    "degree_sequence = sorted([d for n, d in G.degree()])  # degree sequence\n",
    "degreeCount = collections.Counter(degree_sequence)\n",
    "deg, cnt = zip(*degreeCount.items())\n",
    "deg= np.array(deg)\n",
    "cnt = np.array(cnt)\n",
    "\n",
    "#fig, ax = plt.subplots()\n",
    "plt.scatter(deg, cnt,s=10, color=\"purple\")\n",
    "\n",
    "plt.title(\"Degree Histogram\")\n",
    "plt.ylabel(\"Count\")\n",
    "plt.xlabel(\"Degree\")\n",
    "# prep axes                                                                                                                                                                                                                                  \n",
    "                                                                                                            \n",
    "\n",
    "#ax.set_xticks([d for d in deg])\n",
    "#ax.set_xticklabels(deg)\n",
    "\n",
    "popt, pcov = curve_fit(func, deg, cnt )\n",
    "\n",
    "print(popt)\n",
    "\n",
    "plt.plot(deg, func(deg,*popt), color='lime')\n",
    "plt.savefig(\"images/degree_distribution.png\")\n",
    "plt.show()\n"
   ]
  },
  {
   "cell_type": "code",
   "execution_count": 16,
   "metadata": {},
   "outputs": [
    {
     "data": {
      "image/png": "[encoded data removed]",
      "text/plain": [
       "<Figure size 720x576 with 1 Axes>"
      ]
     },
     "metadata": {
      "needs_background": "light"
     },
     "output_type": "display_data"
    },
    {
     "data": {
      "text/plain": [
       "<Figure size 432x288 with 0 Axes>"
      ]
     },
     "metadata": {},
     "output_type": "display_data"
    }
   ],
   "source": [
    "plt.figure(figsize=(10, 8))\n",
    "\n",
    "plt.scatter(deg, cnt,s=10, color=\"purple\")\n",
    "plt.plot(deg, func(deg,*popt), color='lime')\n",
    "plt.title(\"Degree Histogram\")\n",
    "plt.ylabel(\"Count\")\n",
    "plt.xlabel(\"Degree\")\n",
    "plt.xscale('log')\n",
    "plt.yscale('log')\n",
    "plt.show()\n",
    "\n",
    "plt.savefig(\"fitted_curve_degree_distribution.png\")\n"
   ]
  },
  {
   "cell_type": "code",
   "execution_count": 30,
   "metadata": {},
   "outputs": [
    {
     "data": {
      "image/png": "[encoded data removed]",
      "text/plain": [
       "<Figure size 720x576 with 1 Axes>"
      ]
     },
     "metadata": {
      "needs_background": "light"
     },
     "output_type": "display_data"
    }
   ],
   "source": [
    "\n",
    "dict_degree = dict(G.degree())\n",
    "\n",
    "M = np.ndarray((np.max(deg), np.max(deg)))\n",
    "\n",
    "for i in range(np.max(deg)):\n",
    "    for j in range(np.max(deg)):\n",
    "        \n",
    "        # find edges connecting node with degree i and j:\n",
    "        # find node with degree i and degree j and for each check edges\n",
    "        node_i = [ node for node, degree in dict_degree.items() if degree==i ]\n",
    "        node_j = [ node for node, degree in dict_degree.items() if degree==j ]\n",
    "        \n",
    "        \n",
    "        M[i, j] = len([ 1 for n_i in node_i for n_j in node_j if G.has_edge(n_i, n_j)])\n",
    "\n",
    "M = M /  nx.number_of_edges(G) # normalize\n",
    "\n",
    "plt.figure(figsize=(10, 8))\n",
    "plt.imshow(M, cmap='Purples', interpolation='nearest')\n",
    "plt.show()"
   ]
  },
  {
   "cell_type": "code",
   "execution_count": 10,
   "metadata": {},
   "outputs": [
    {
     "ename": "KeyboardInterrupt",
     "evalue": "",
     "output_type": "error",
     "traceback": [
      "\u001b[1;31m---------------------------------------------------------------------------\u001b[0m",
      "\u001b[1;31mKeyboardInterrupt\u001b[0m                         Traceback (most recent call last)",
      "\u001b[1;32m<ipython-input-10-4f62a9d764b5>\u001b[0m in \u001b[0;36m<module>\u001b[1;34m\u001b[0m\n\u001b[0;32m      8\u001b[0m \u001b[1;33m\u001b[0m\u001b[0m\n\u001b[0;32m      9\u001b[0m     \u001b[1;31m# load graph with K nodes\u001b[0m\u001b[1;33m\u001b[0m\u001b[1;33m\u001b[0m\u001b[1;33m\u001b[0m\u001b[0m\n\u001b[1;32m---> 10\u001b[1;33m     \u001b[0mGp\u001b[0m \u001b[1;33m=\u001b[0m \u001b[0mload_dataset\u001b[0m\u001b[1;33m(\u001b[0m\u001b[0msample\u001b[0m \u001b[1;33m=\u001b[0m \u001b[1;32mTrue\u001b[0m\u001b[1;33m,\u001b[0m \u001b[0mK\u001b[0m \u001b[1;33m=\u001b[0m \u001b[0mK\u001b[0m\u001b[1;33m)\u001b[0m\u001b[1;33m\u001b[0m\u001b[1;33m\u001b[0m\u001b[0m\n\u001b[0m\u001b[0;32m     11\u001b[0m \u001b[1;33m\u001b[0m\u001b[0m\n\u001b[0;32m     12\u001b[0m \u001b[1;33m\u001b[0m\u001b[0m\n",
      "\u001b[1;32m<ipython-input-9-342c1d377311>\u001b[0m in \u001b[0;36mload_dataset\u001b[1;34m(sample, K)\u001b[0m\n\u001b[0;32m     49\u001b[0m \u001b[1;33m\u001b[0m\u001b[0m\n\u001b[0;32m     50\u001b[0m                 \u001b[1;31m# restore\u001b[0m\u001b[1;33m\u001b[0m\u001b[1;33m\u001b[0m\u001b[1;33m\u001b[0m\u001b[0m\n\u001b[1;32m---> 51\u001b[1;33m                 \u001b[0mG_c\u001b[0m \u001b[1;33m=\u001b[0m \u001b[0mG\u001b[0m\u001b[1;33m.\u001b[0m\u001b[0mcopy\u001b[0m\u001b[1;33m(\u001b[0m\u001b[1;33m)\u001b[0m\u001b[1;33m\u001b[0m\u001b[1;33m\u001b[0m\u001b[0m\n\u001b[0m\u001b[0;32m     52\u001b[0m \u001b[1;33m\u001b[0m\u001b[0m\n\u001b[0;32m     53\u001b[0m                 \u001b[1;31m# choose randomly node\u001b[0m\u001b[1;33m\u001b[0m\u001b[1;33m\u001b[0m\u001b[1;33m\u001b[0m\u001b[0m\n",
      "\u001b[1;32m~\\anaconda3\\lib\\site-packages\\networkx\\classes\\graph.py\u001b[0m in \u001b[0;36mcopy\u001b[1;34m(self, as_view)\u001b[0m\n\u001b[0;32m   1512\u001b[0m         \u001b[0mG\u001b[0m\u001b[1;33m.\u001b[0m\u001b[0mgraph\u001b[0m\u001b[1;33m.\u001b[0m\u001b[0mupdate\u001b[0m\u001b[1;33m(\u001b[0m\u001b[0mself\u001b[0m\u001b[1;33m.\u001b[0m\u001b[0mgraph\u001b[0m\u001b[1;33m)\u001b[0m\u001b[1;33m\u001b[0m\u001b[1;33m\u001b[0m\u001b[0m\n\u001b[0;32m   1513\u001b[0m         \u001b[0mG\u001b[0m\u001b[1;33m.\u001b[0m\u001b[0madd_nodes_from\u001b[0m\u001b[1;33m(\u001b[0m\u001b[1;33m(\u001b[0m\u001b[0mn\u001b[0m\u001b[1;33m,\u001b[0m \u001b[0md\u001b[0m\u001b[1;33m.\u001b[0m\u001b[0mcopy\u001b[0m\u001b[1;33m(\u001b[0m\u001b[1;33m)\u001b[0m\u001b[1;33m)\u001b[0m \u001b[1;32mfor\u001b[0m \u001b[0mn\u001b[0m\u001b[1;33m,\u001b[0m \u001b[0md\u001b[0m \u001b[1;32min\u001b[0m \u001b[0mself\u001b[0m\u001b[1;33m.\u001b[0m\u001b[0m_node\u001b[0m\u001b[1;33m.\u001b[0m\u001b[0mitems\u001b[0m\u001b[1;33m(\u001b[0m\u001b[1;33m)\u001b[0m\u001b[1;33m)\u001b[0m\u001b[1;33m\u001b[0m\u001b[1;33m\u001b[0m\u001b[0m\n\u001b[1;32m-> 1514\u001b[1;33m         G.add_edges_from((u, v, datadict.copy())\n\u001b[0m\u001b[0;32m   1515\u001b[0m                          \u001b[1;32mfor\u001b[0m \u001b[0mu\u001b[0m\u001b[1;33m,\u001b[0m \u001b[0mnbrs\u001b[0m \u001b[1;32min\u001b[0m \u001b[0mself\u001b[0m\u001b[1;33m.\u001b[0m\u001b[0m_adj\u001b[0m\u001b[1;33m.\u001b[0m\u001b[0mitems\u001b[0m\u001b[1;33m(\u001b[0m\u001b[1;33m)\u001b[0m\u001b[1;33m\u001b[0m\u001b[1;33m\u001b[0m\u001b[0m\n\u001b[0;32m   1516\u001b[0m                          for v, datadict in nbrs.items())\n",
      "\u001b[1;32m~\\anaconda3\\lib\\site-packages\\networkx\\classes\\graph.py\u001b[0m in \u001b[0;36madd_edges_from\u001b[1;34m(self, ebunch_to_add, **attr)\u001b[0m\n\u001b[0;32m    947\u001b[0m                 \u001b[0mself\u001b[0m\u001b[1;33m.\u001b[0m\u001b[0m_node\u001b[0m\u001b[1;33m[\u001b[0m\u001b[0mv\u001b[0m\u001b[1;33m]\u001b[0m \u001b[1;33m=\u001b[0m \u001b[0mself\u001b[0m\u001b[1;33m.\u001b[0m\u001b[0mnode_attr_dict_factory\u001b[0m\u001b[1;33m(\u001b[0m\u001b[1;33m)\u001b[0m\u001b[1;33m\u001b[0m\u001b[1;33m\u001b[0m\u001b[0m\n\u001b[0;32m    948\u001b[0m             \u001b[0mdatadict\u001b[0m \u001b[1;33m=\u001b[0m \u001b[0mself\u001b[0m\u001b[1;33m.\u001b[0m\u001b[0m_adj\u001b[0m\u001b[1;33m[\u001b[0m\u001b[0mu\u001b[0m\u001b[1;33m]\u001b[0m\u001b[1;33m.\u001b[0m\u001b[0mget\u001b[0m\u001b[1;33m(\u001b[0m\u001b[0mv\u001b[0m\u001b[1;33m,\u001b[0m \u001b[0mself\u001b[0m\u001b[1;33m.\u001b[0m\u001b[0medge_attr_dict_factory\u001b[0m\u001b[1;33m(\u001b[0m\u001b[1;33m)\u001b[0m\u001b[1;33m)\u001b[0m\u001b[1;33m\u001b[0m\u001b[1;33m\u001b[0m\u001b[0m\n\u001b[1;32m--> 949\u001b[1;33m             \u001b[0mdatadict\u001b[0m\u001b[1;33m.\u001b[0m\u001b[0mupdate\u001b[0m\u001b[1;33m(\u001b[0m\u001b[0mattr\u001b[0m\u001b[1;33m)\u001b[0m\u001b[1;33m\u001b[0m\u001b[1;33m\u001b[0m\u001b[0m\n\u001b[0m\u001b[0;32m    950\u001b[0m             \u001b[0mdatadict\u001b[0m\u001b[1;33m.\u001b[0m\u001b[0mupdate\u001b[0m\u001b[1;33m(\u001b[0m\u001b[0mdd\u001b[0m\u001b[1;33m)\u001b[0m\u001b[1;33m\u001b[0m\u001b[1;33m\u001b[0m\u001b[0m\n\u001b[0;32m    951\u001b[0m             \u001b[0mself\u001b[0m\u001b[1;33m.\u001b[0m\u001b[0m_adj\u001b[0m\u001b[1;33m[\u001b[0m\u001b[0mu\u001b[0m\u001b[1;33m]\u001b[0m\u001b[1;33m[\u001b[0m\u001b[0mv\u001b[0m\u001b[1;33m]\u001b[0m \u001b[1;33m=\u001b[0m \u001b[0mdatadict\u001b[0m\u001b[1;33m\u001b[0m\u001b[1;33m\u001b[0m\u001b[0m\n",
      "\u001b[1;31mKeyboardInterrupt\u001b[0m: "
     ]
    }
   ],
   "source": [
    "\n",
    "step = 500\n",
    "\n",
    "d_list = []\n",
    "\n",
    "k_list = np.arange(1000, N, step)\n",
    "\n",
    "for K in k_list:\n",
    "    \n",
    "    print(K)\n",
    "    # load graph with K nodes\n",
    "    Gp = load_dataset(sample = True, K = K)\n",
    "    \n",
    "    d_list.append(nx.diameter(Gp))\n",
    "    "
   ]
  },
  {
   "cell_type": "code",
   "execution_count": null,
   "metadata": {},
   "outputs": [],
   "source": [
    "# plot linecharts\n",
    "plt.figure(figsize=(10, 8))\n",
    "\n",
    "print(d_list)\n",
    "\n",
    "\n",
    "x_list = np.arange(100, N + step, step)\n",
    "\n",
    "plt.plot(x_list, [ np.log(x) for x in x_list ], \"k--\", label = \"Ln(N)\")\n",
    "plt.plot(x_list, [ np.log(np.log(x)) for x in x_list ], \"m--\", label = \"LnLn(N)\")\n",
    "plt.plot(x_list, [ np.log(x)/np.log(np.log(x)) for x in x_list ], \"r--\", label = \"Ln(N)/LnLn(N)\")\n",
    "plt.plot(k_list, d_list, label=\"<d>\")\n",
    "\n",
    "plt.legend()"
   ]
  },
  {
   "cell_type": "markdown",
   "metadata": {},
   "source": [
    "#### Which are the most important nodes, with respect to a given centrality measure?"
   ]
  },
  {
   "cell_type": "code",
   "execution_count": null,
   "metadata": {},
   "outputs": [],
   "source": [
    "# da scegliere le misure\n",
    "\n",
    "k= 10 # top k node\n",
    "\n",
    "betwenness = nx.betweenness_centrality(G)\n",
    "\n",
    "# select first k\n",
    "betwenness = dict(sorted(betwenness.items(), key=lambda item: item[1], reverse=True)[:k])\n",
    "\n",
    "print(betwenness)\n",
    "\n",
    "closeness = nx.closeness_centrality(G)\n",
    "\n",
    "# select first k\n",
    "closeness = dict(sorted(closeness.items(), key=lambda item: item[1], reverse=True)[:k])\n",
    "\n",
    "print(closeness)\n"
   ]
  }
 ],
 "metadata": {
  "kernelspec": {
   "display_name": "Python 3",
   "language": "python",
   "name": "python3"
  },
  "language_info": {
   "codemirror_mode": {
    "name": "ipython",
    "version": 3
   },
   "file_extension": ".py",
   "mimetype": "text/x-python",
   "name": "python",
   "nbconvert_exporter": "python",
   "pygments_lexer": "ipython3",
   "version": "3.8.3"
  }
 },
 "nbformat": 4,
 "nbformat_minor": 4
}
